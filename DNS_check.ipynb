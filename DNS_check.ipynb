{
 "cells": [
  {
   "cell_type": "code",
   "execution_count": 1,
   "metadata": {
    "collapsed": false
   },
   "outputs": [],
   "source": [
    "import dns.resolver\n",
    "import string\n",
    "import whois"
   ]
  },
  {
   "cell_type": "code",
   "execution_count": 2,
   "metadata": {
    "collapsed": true
   },
   "outputs": [],
   "source": [
    "def nscheck(name):\n",
    "    try: \n",
    "        ns = dns.resolver.query(name, 'NS')\n",
    "        return 0\n",
    "    except:\n",
    "        return 1\n",
    "    "
   ]
  },
  {
   "cell_type": "code",
   "execution_count": 9,
   "metadata": {
    "collapsed": true
   },
   "outputs": [],
   "source": [
    "def check_whois(name):\n",
    "    try:\n",
    "        w = whois.whois(name)\n",
    "        return(w)\n",
    "    except: \n",
    "        return(1)"
   ]
  },
  {
   "cell_type": "code",
   "execution_count": 10,
   "metadata": {
    "collapsed": false
   },
   "outputs": [],
   "source": [
    "alpha = list(string.lowercase)\n",
    "num = range(0,10)\n",
    "z = ['com']"
   ]
  },
  {
   "cell_type": "code",
   "execution_count": null,
   "metadata": {
    "collapsed": false
   },
   "outputs": [
    {
     "name": "stdout",
     "output_type": "stream",
     "text": [
      "aa.com [datetime.datetime(2017, 1, 1, 0, 0), datetime.datetime(2017, 1, 1, 5, 0)]\n",
      "ab.com [datetime.datetime(2024, 10, 11, 0, 0), datetime.datetime(2024, 10, 11, 4, 0)]\n",
      "ac.com [datetime.datetime(2017, 5, 20, 0, 0), datetime.datetime(2017, 5, 20, 4, 0)]\n",
      "ad.com [datetime.datetime(2017, 8, 13, 0, 0), datetime.datetime(2017, 8, 13, 4, 0)]\n",
      "ae.com [datetime.datetime(2017, 3, 17, 0, 0), datetime.datetime(2017, 3, 17, 4, 0)]\n",
      "af.com [datetime.datetime(2025, 1, 8, 0, 0), datetime.datetime(2025, 1, 8, 3, 1, 37)]\n",
      "ag.com [datetime.datetime(2017, 9, 6, 0, 0), datetime.datetime(2017, 9, 6, 4, 0)]\n",
      "ah.com [datetime.datetime(2019, 12, 10, 0, 0), datetime.datetime(2019, 12, 10, 5, 0)]\n",
      "ai.com [datetime.datetime(2017, 5, 5, 0, 0), u'2017-05-05-T04:00:00Z']\n",
      "aj.com [datetime.datetime(2017, 12, 15, 0, 0), datetime.datetime(2017, 12, 14, 0, 0)]\n",
      "ak.com 2019-04-09 00:00:00\n",
      "al.com [datetime.datetime(2018, 4, 24, 0, 0), datetime.datetime(2018, 4, 24, 4, 0)]\n",
      "am.com 2017-05-06 00:00:00\n",
      "an.com [datetime.datetime(2025, 10, 2, 0, 0), datetime.datetime(2025, 10, 2, 4, 41)]\n",
      "ao.com [datetime.datetime(2017, 9, 6, 0, 0), datetime.datetime(2017, 9, 6, 4, 0)]\n",
      "ap.com [datetime.datetime(2026, 1, 22, 0, 0), datetime.datetime(2026, 1, 22, 5, 0)]\n",
      "aq.com 2020-04-18 00:00:00\n",
      "ar.com 2024-12-10 00:00:00\n"
     ]
    }
   ],
   "source": [
    "for a in alpha:\n",
    "    for b in alpha:\n",
    "        dom = a + str(b) + \".\" + z[0]\n",
    "        #dom = a + \".\" + z[0]\n",
    "        #n = nscheck(dom)\n",
    "        #if n == 1:\n",
    "        #    print dom\n",
    "        n = check_whois(dom)\n",
    "        print dom, n.expiration_date"
   ]
  },
  {
   "cell_type": "code",
   "execution_count": 12,
   "metadata": {
    "collapsed": false
   },
   "outputs": [],
   "source": [
    "#for b in num:\n",
    "    #print b"
   ]
  },
  {
   "cell_type": "code",
   "execution_count": null,
   "metadata": {
    "collapsed": true
   },
   "outputs": [],
   "source": []
  }
 ],
 "metadata": {
  "kernelspec": {
   "display_name": "Python 2",
   "language": "python",
   "name": "python2"
  },
  "language_info": {
   "codemirror_mode": {
    "name": "ipython",
    "version": 2
   },
   "file_extension": ".py",
   "mimetype": "text/x-python",
   "name": "python",
   "nbconvert_exporter": "python",
   "pygments_lexer": "ipython2",
   "version": "2.7.10"
  }
 },
 "nbformat": 4,
 "nbformat_minor": 1
}
